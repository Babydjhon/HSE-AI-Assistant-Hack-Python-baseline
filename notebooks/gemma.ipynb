{
 "cells": [
  {
   "cell_type": "code",
   "id": "initial_id",
   "metadata": {
    "collapsed": true,
    "ExecuteTime": {
     "end_time": "2024-10-12T20:55:43.981802Z",
     "start_time": "2024-10-12T20:55:19.321500Z"
    }
   },
   "source": [
    "import os\n",
    "\n",
    "from dotenv import load_dotenv\n",
    "from transformers import pipeline\n",
    "\n",
    "load_dotenv()\n",
    "\n",
    "pipe = pipeline(\"text-generation\", model=\"google/gemma-2-2b\", device=\"cuda\", token=os.getenv(\"HUGGINGFACE_TOKEN\"))\n",
    "\n",
    "text = \"Что такое динамическое программирование?\"\n",
    "outputs = pipe(text, max_new_tokens=256)\n",
    "response = outputs[0][\"generated_text\"]\n",
    "print(response)"
   ],
   "outputs": [
    {
     "data": {
      "text/plain": [
       "Loading checkpoint shards:   0%|          | 0/3 [00:00<?, ?it/s]"
      ],
      "application/vnd.jupyter.widget-view+json": {
       "version_major": 2,
       "version_minor": 0,
       "model_id": "2e33885d47fe4c2281fc5d41ca521d5b"
      }
     },
     "metadata": {},
     "output_type": "display_data"
    },
    {
     "name": "stderr",
     "output_type": "stream",
     "text": [
      "The 'max_batch_size' argument of HybridCache is deprecated and will be removed in v4.46. Use the more precisely named 'batch_size' argument instead.\n",
      "Starting from v4.46, the `logits` model output will have the same type as the model (except at train time, where it will always be FP32)\n"
     ]
    },
    {
     "name": "stdout",
     "output_type": "stream",
     "text": [
      "Что такое динамическое программирование?\n",
      "\n",
      "[User 0001]\n",
      "\n",
      "Здравствуйте!\n",
      "\n",
      "Я изучаю динамическое программирование, но не могу понять, что такое динамическое программирование.\n",
      "\n",
      "Я знаю, что это метод решения задач, но не могу понять, что такое динамическое программирование.\n",
      "\n",
      "[User 0002]\n",
      "\n",
      "Динамическое программирование - это метод решения задач, который использует динамические функции, чтобы найти оптимальное решение.\n",
      "\n",
      "[User 0003]\n",
      "\n",
      "Динамическое программирование - это метод решения задач, который использует динамические функции, чтобы найти оптимальное решение.\n",
      "\n",
      "[User 0004]\n",
      "\n",
      "Динамическое программирование - это метод решения задач, который использует динамические функции, чтобы найти оптимальное решение.\n",
      "\n",
      "[User 0005]\n",
      "\n",
      "Динамическое программирование - это метод решения задач, который использует динамические функции, чтобы найти оптимальное решение.\n",
      "\n",
      "[User 0006]\n",
      "\n",
      "Динамическое программирование - это метод решения задач, который использует динамические функции, чтобы найти оптимальное решение.\n",
      "\n",
      "[User 0007]\n",
      "\n",
      "Динамическое программирование - это метод решения задач, который использует динамические функции, чтобы найти\n"
     ]
    }
   ],
   "execution_count": 1
  },
  {
   "metadata": {},
   "cell_type": "code",
   "outputs": [],
   "execution_count": null,
   "source": "",
   "id": "a97d0ec81b2c100d"
  }
 ],
 "metadata": {
  "kernelspec": {
   "display_name": "Python 3",
   "language": "python",
   "name": "python3"
  },
  "language_info": {
   "codemirror_mode": {
    "name": "ipython",
    "version": 2
   },
   "file_extension": ".py",
   "mimetype": "text/x-python",
   "name": "python",
   "nbconvert_exporter": "python",
   "pygments_lexer": "ipython2",
   "version": "2.7.6"
  }
 },
 "nbformat": 4,
 "nbformat_minor": 5
}
